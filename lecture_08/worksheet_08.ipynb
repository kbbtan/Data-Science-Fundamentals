{
 "cells": [
  {
   "cell_type": "markdown",
   "metadata": {},
   "source": [
    "# Worksheet 08\n",
    "\n",
    "Name: Kian Boon Tan\n",
    "\n",
    "UID: U93983891\n",
    "\n",
    "### Topics\n",
    "\n",
    "- Soft Clustering\n",
    "- Clustering Aggregation\n",
    "\n",
    "### Probability Review\n",
    "\n",
    "Read through [the following](https://medium.com/@gallettilance/overview-of-probability-3272b72c82c8)\n",
    "\n",
    "### Soft Clustering\n",
    "\n",
    "We generate 10 data points that come from a normal distribution with mean 5 and variance 1."
   ]
  },
  {
   "cell_type": "code",
   "execution_count": 1,
   "metadata": {},
   "outputs": [
    {
     "name": "stdout",
     "output_type": "stream",
     "text": [
      "[5.181804983495415, 3.8416785411107113, 4.348880909523758, 4.586677271515826, 4.722916736639092, 5.9890359011841126, 4.4500887536213085, 4.44944387078011, 3.255062806782293, 5.4361520877714495]\n"
     ]
    }
   ],
   "source": [
    "import random\n",
    "import numpy as np\n",
    "from sklearn.cluster import KMeans\n",
    "\n",
    "mean = 5\n",
    "stdev = 1\n",
    "\n",
    "s1 = np.random.normal(mean, stdev, 10).tolist()\n",
    "print(s1)"
   ]
  },
  {
   "cell_type": "markdown",
   "metadata": {},
   "source": [
    "a) Generate 10 more data points, this time coming from a normal distribution with mean 8 and variance 1."
   ]
  },
  {
   "cell_type": "code",
   "execution_count": 2,
   "metadata": {},
   "outputs": [
    {
     "name": "stdout",
     "output_type": "stream",
     "text": [
      "[8.884843056660241, 9.1492059153979, 9.232973770945886, 8.56077146100575, 6.864235912248607, 7.753310478020193, 7.715720141629531, 6.6728555580344, 5.196441766405652, 6.840267039369606]\n"
     ]
    }
   ],
   "source": [
    "s2 = np.random.normal(8, 1, 10).tolist()\n",
    "print(s2)"
   ]
  },
  {
   "cell_type": "markdown",
   "metadata": {},
   "source": [
    "b) Flip a fair coin 10 times. If the coin lands on H, then pick the last data point of `s1` and remove it from `s1`, if T then pick the last data point from `s2` and remove it from `s2`. Add these 10 points to a list called `data`."
   ]
  },
  {
   "cell_type": "code",
   "execution_count": 3,
   "metadata": {},
   "outputs": [
    {
     "name": "stdout",
     "output_type": "stream",
     "text": [
      "[5.4361520877714495, 6.840267039369606, 5.196441766405652, 3.255062806782293, 4.44944387078011, 4.4500887536213085, 6.6728555580344, 5.9890359011841126, 4.722916736639092, 4.586677271515826]\n"
     ]
    }
   ],
   "source": [
    "data = []\n",
    "for i in range(10):\n",
    "    # flip coin\n",
    "    coin_output = random.choice([0, 1])\n",
    "    if coin_output == 0:\n",
    "        p1 = s1.pop()\n",
    "        data.append(p1)\n",
    "    else:\n",
    "        p2 = s2.pop()\n",
    "        data.append(p2)\n",
    "print(data)"
   ]
  },
  {
   "cell_type": "markdown",
   "metadata": {},
   "source": [
    "c) This `data` is a Gaussian Mixture Distribution with 2 mixture components. Over the next few questions we will walk through the GMM algorithm to see if we can uncover the parameters we used to generate this data. First, please list all these parameters of the GMM that created `data` and the values we know they have."
   ]
  },
  {
   "cell_type": "markdown",
   "metadata": {},
   "source": [
    "$S_1 \\sim N(5, 1), P(S_1) = 0.5$\n",
    "\n",
    "$S_2 \\sim N(8, 1), P(S_2) = 0.5$"
   ]
  },
  {
   "cell_type": "markdown",
   "metadata": {},
   "source": [
    "d) Let's assume there are two mixture components (note: we could plot the data and make the observation that there are two clusters). The EM algorithm asks us to start with a random `mean_j`, `variance_j`, `P(S_j)` for each component j. One method we could use to find sensible values for these is to apply K means with k=2 here.\n",
    "\n",
    "1. the centroids would be the estimates of the `mean_j`\n",
    "2. the intra-cluster variance could be the estimate of `variance_j`\n",
    "3. the proportion of points in each cluster could be the estimate of `P(S_j)`\n",
    "\n",
    "Go through this process and list the parameter estimates it gives. Are they close or far from the true values?"
   ]
  },
  {
   "cell_type": "code",
   "execution_count": 4,
   "metadata": {},
   "outputs": [
    {
     "name": "stdout",
     "output_type": "stream",
     "text": [
      "[6.840267039369606, 6.6728555580344, 5.9890359011841126]\n",
      "[5.4361520877714495, 5.196441766405652, 3.255062806782293, 4.44944387078011, 4.4500887536213085, 4.722916736639092, 4.586677271515826]\n",
      "P(S_1) = 0.3,  P(S_2) = 0.7\n",
      "mean_1 = 6.500719499529374,  mean_2 = 4.585254756216534\n",
      "var_1 = 0.13558115308825155,  var_2 = 0.4175219631250129\n"
     ]
    }
   ],
   "source": [
    "kmeans = KMeans(2, init='k-means++').fit(X=np.array(data).reshape(-1, 1))\n",
    "\n",
    "s1 = [x[0] for x in filter(lambda x: x[1] == 0, zip(data, kmeans.labels_))]\n",
    "print(s1)\n",
    "s2 = [x[0] for x in filter(lambda x: x[1] == 1, zip(data, kmeans.labels_))]\n",
    "print(s2)\n",
    "\n",
    "prob_s = [ len(s1) / (len(s1) + len(s2)) , len(s2) / (len(s1) + len(s2)) ]\n",
    "mean = [ sum(s1)/len(s1) , sum(s2)/len(s2) ]\n",
    "var = [ sum(map(lambda x : (x - mean[0])**2, s1)) / len(s1) , sum(map(lambda x : (x - mean[1])**2, s2)) / len(s2) ]\n",
    "\n",
    "print(\"P(S_1) = \" + str(prob_s[0]) + \",  P(S_2) = \" + str(prob_s[1]))\n",
    "print(\"mean_1 = \" + str(mean[0]) + \",  mean_2 = \" + str(mean[1]))\n",
    "print(\"var_1 = \" + str(var[0]) + \",  var_2 = \" + str(var[1]))"
   ]
  },
  {
   "cell_type": "markdown",
   "metadata": {},
   "source": [
    "The parameter estimates given do not seem very close to the true values."
   ]
  },
  {
   "cell_type": "markdown",
   "metadata": {},
   "source": [
    "e) For each data point, compute `P(S_j | X_i)`. Comment on which cluster you think each point belongs to based on the estimated probabilities. How does that compare to the truth?"
   ]
  },
  {
   "cell_type": "code",
   "execution_count": 5,
   "metadata": {},
   "outputs": [
    {
     "name": "stdout",
     "output_type": "stream",
     "text": [
      "point =  5.4361520877714495\n",
      "probability of observing that point if it came from cluster 0 =  0.016584683308646035\n",
      "probability of observing that point if it came from cluster 1 =  0.25942667370934713\n",
      "point =  6.840267039369606\n",
      "probability of observing that point if it came from cluster 0 =  0.7082025544118888\n",
      "probability of observing that point if it came from cluster 1 =  0.001399240400640685\n",
      "point =  5.196441766405652\n",
      "probability of observing that point if it came from cluster 0 =  0.0020429516216847687\n",
      "probability of observing that point if it came from cluster 1 =  0.39472313670634734\n",
      "point =  3.255062806782293\n",
      "probability of observing that point if it came from cluster 0 =  1.455658622300351e-17\n",
      "probability of observing that point if it came from cluster 1 =  0.07418653338042541\n",
      "point =  4.44944387078011\n",
      "probability of observing that point if it came from cluster 0 =  1.9755718897922683e-07\n",
      "probability of observing that point if it came from cluster 1 =  0.6039175218601756\n",
      "point =  4.4500887536213085\n",
      "probability of observing that point if it came from cluster 0 =  1.994938344575531e-07\n",
      "probability of observing that point if it came from cluster 1 =  0.6040439159666563\n",
      "point =  6.6728555580344\n",
      "probability of observing that point if it came from cluster 0 =  0.9713004206525033\n",
      "probability of observing that point if it came from cluster 1 =  0.003341922835360793\n",
      "point =  5.9890359011841126\n",
      "probability of observing that point if it came from cluster 0 =  0.4125517409455753\n",
      "probability of observing that point if it came from cluster 1 =  0.05830268546229162\n",
      "point =  4.722916736639092\n",
      "probability of observing that point if it came from cluster 0 =  9.393130217617403e-06\n",
      "probability of observing that point if it came from cluster 1 =  0.6035515230936714\n",
      "point =  4.586677271515826\n",
      "probability of observing that point if it came from cluster 0 =  1.4697513733857773e-06\n",
      "probability of observing that point if it came from cluster 1 =  0.6174038743933019\n",
      "5.4361520877714495\n",
      "Probability of coming from S_1 = 0.026667182727375224\n",
      "Probability of coming from S_2 = 0.9733328172726248\n",
      "\n",
      "6.840267039369606\n",
      "Probability of coming from S_1 = 0.9954110419609234\n",
      "Probability of coming from S_2 = 0.004588958039076548\n",
      "\n",
      "5.196441766405652\n",
      "Probability of coming from S_1 = 0.0022132295249995783\n",
      "Probability of coming from S_2 = 0.9977867704750003\n",
      "\n",
      "3.255062806782293\n",
      "Probability of coming from S_1 = 8.409257945407471e-17\n",
      "Probability of coming from S_2 = 0.9999999999999999\n",
      "\n",
      "4.44944387078011\n",
      "Probability of coming from S_1 = 1.4019688412830135e-07\n",
      "Probability of coming from S_2 = 0.9999998598031159\n",
      "\n",
      "4.4500887536213085\n",
      "Probability of coming from S_1 = 1.415416052761831e-07\n",
      "Probability of coming from S_2 = 0.9999998584583948\n",
      "\n",
      "6.6728555580344\n",
      "Probability of coming from S_1 = 0.9920357124282204\n",
      "Probability of coming from S_2 = 0.007964287571779562\n",
      "\n",
      "5.9890359011841126\n",
      "Probability of coming from S_1 = 0.7520201479605222\n",
      "Probability of coming from S_2 = 0.2479798520394779\n",
      "\n",
      "4.722916736639092\n",
      "Probability of coming from S_1 = 6.669853743624931e-06\n",
      "Probability of coming from S_2 = 0.9999933301462565\n",
      "\n",
      "4.586677271515826\n",
      "Probability of coming from S_1 = 1.0202281346561308e-06\n",
      "Probability of coming from S_2 = 0.9999989797718654\n",
      "\n"
     ]
    }
   ],
   "source": [
    "from scipy.stats import norm\n",
    "\n",
    "prob_s0_x = [] # P(S_0 | X_i)\n",
    "prob_s1_x = [] # P(S_1 | X_i)\n",
    "prob_x = [] # P(X_i)\n",
    "\n",
    "k = 2\n",
    "\n",
    "for p in data:\n",
    "    print(\"point = \", p)\n",
    "    pdf_i = []\n",
    "\n",
    "    for j in range(k):\n",
    "        # P(X_i | S_j)\n",
    "        pdf_i.append(norm.pdf(p, mean[j], var[j] ** 0.5))\n",
    "        print(\"probability of observing that point if it came from cluster \" + str(j) + \" = \", pdf_i[j])\n",
    "        # P(S_j) already computed\n",
    "        prob_s[j]\n",
    "\n",
    "    # P(X_i) = P(S_0)P(X_i | S_0) + P(S_1)P(X_i | S_1)\n",
    "    prob_x = prob_s[0] * pdf_i[0] + prob_s[1] * pdf_i[1]\n",
    "\n",
    "    # P(S_j | X_i) = P(X_i | S_j)P(S_j) / P(X_i)\n",
    "    prob_s0_x.append(pdf_i[0] * prob_s[0] / prob_x)\n",
    "    prob_s1_x.append(pdf_i[1] * prob_s[1] / prob_x)\n",
    "\n",
    "probs = zip(data, prob_s0_x, prob_s1_x)\n",
    "for p in probs:\n",
    "    print(p[0])\n",
    "    print(\"Probability of coming from S_1 = \" + str(p[1]))\n",
    "    print(\"Probability of coming from S_2 = \" + str(p[2]))\n",
    "    print()\n"
   ]
  },
  {
   "cell_type": "markdown",
   "metadata": {},
   "source": [
    "f) Having computed `P(S_j | X_i)`, update the estimates of `mean_j`, `var_j`, and `P(S_j)`. How different are these values from the original ones you got from K means? briefly comment."
   ]
  },
  {
   "cell_type": "code",
   "execution_count": 7,
   "metadata": {},
   "outputs": [
    {
     "name": "stdout",
     "output_type": "stream",
     "text": [
      "P(S_1) = 0.27683552864224087,  P(S_2) = 0.7231644713577591\n",
      "mean_1 = 6.5341935427709705,  mean_2 = 4.633796858486544\n",
      "var_1 = 0.13436257676842145,  var_2 = 0.4746074704999107\n"
     ]
    }
   ],
   "source": [
    "prob_s = [sum(prob_s0_x)/ len(prob_s0_x), sum(prob_s1_x)/ len(prob_s1_x) ]\n",
    "mean = [sum([x[0] * x[1] for x in zip(prob_s0_x, data)]) / sum(prob_s0_x), sum([x[0] * x[1] for x in zip(prob_s1_x, data)]) / sum(prob_s1_x) ]\n",
    "var = [sum([x[0] * (x[1] - mean[0]) ** 2 for x in zip(prob_s0_x, data)]) / sum(prob_s0_x), sum([x[0] * (x[1] - mean[1]) ** 2 for x in zip(prob_s1_x, data)]) / sum(prob_s1_x)]\n",
    "\n",
    "print(\"P(S_1) = \" + str(prob_s[0]) + \",  P(S_2) = \" + str(prob_s[1]))\n",
    "print(\"mean_1 = \" + str(mean[0]) + \",  mean_2 = \" + str(mean[1]))\n",
    "print(\"var_1 = \" + str(var[0]) + \",  var_2 = \" + str(var[1]))"
   ]
  },
  {
   "cell_type": "markdown",
   "metadata": {},
   "source": [
    "#### Original Values:\n",
    "```\n",
    "P(S_1) = 0.3,  P(S_2) = 0.7\n",
    "mean_1 = 6.500719499529374,  mean_2 = 4.585254756216534\n",
    "var_1 = 0.13558115308825155,  var_2 = 0.4175219631250129\n",
    "```\n",
    "\n",
    "The means and variances appear to be slowly moving towards the correct values, but not the probabilities."
   ]
  },
  {
   "cell_type": "markdown",
   "metadata": {},
   "source": [
    "g) Update `P(S_j | X_i)`. Comment on any differences or lack thereof you observe."
   ]
  },
  {
   "cell_type": "code",
   "execution_count": 8,
   "metadata": {},
   "outputs": [
    {
     "name": "stdout",
     "output_type": "stream",
     "text": [
      "point =  5.4361520877714495\n",
      "probability of observing that point if it came from cluster 0 =  0.01225215075832808\n",
      "probability of observing that point if it came from cluster 1 =  0.293898105626826\n",
      "point =  6.840267039369606\n",
      "probability of observing that point if it came from cluster 0 =  0.7680161591825406\n",
      "probability of observing that point if it came from cluster 1 =  0.003429669153009612\n",
      "point =  5.196441766405652\n",
      "probability of observing that point if it came from cluster 0 =  0.0013950162873206978\n",
      "probability of observing that point if it came from cluster 1 =  0.4148611585562654\n",
      "point =  3.255062806782293\n",
      "probability of observing that point if it came from cluster 0 =  4.560626310236218e-18\n",
      "probability of observing that point if it came from cluster 1 =  0.07816641481142488\n",
      "point =  4.44944387078011\n",
      "probability of observing that point if it came from cluster 0 =  1.0298689133651598e-07\n",
      "probability of observing that point if it came from cluster 1 =  0.5587186253815748\n",
      "point =  4.4500887536213085\n",
      "probability of observing that point if it came from cluster 0 =  1.04022380157513e-07\n",
      "probability of observing that point if it came from cluster 1 =  0.5588583534373314\n",
      "point =  6.6728555580344\n",
      "probability of observing that point if it came from cluster 0 =  1.0132050462988709\n",
      "probability of observing that point if it came from cluster 1 =  0.007251735073721765\n",
      "point =  5.9890359011841126\n",
      "probability of observing that point if it came from cluster 0 =  0.36013263957920705\n",
      "probability of observing that point if it came from cluster 1 =  0.08363913199973594\n",
      "point =  4.722916736639092\n",
      "probability of observing that point if it came from cluster 0 =  5.428734844871442e-06\n",
      "probability of observing that point if it came from cluster 1 =  0.5742604604406357\n",
      "point =  4.586677271515826\n",
      "probability of observing that point if it came from cluster 0 =  8.073940811990677e-07\n",
      "probability of observing that point if it came from cluster 1 =  0.577732696589715\n",
      "5.4361520877714495\n",
      "Probability of coming from S_1 = 0.01570811935760361\n",
      "Probability of coming from S_2 = 0.9842918806423965\n",
      "\n",
      "6.840267039369606\n",
      "Probability of coming from S_1 = 0.9884691782949261\n",
      "Probability of coming from S_2 = 0.011530821705073899\n",
      "\n",
      "5.196441766405652\n",
      "Probability of coming from S_1 = 0.0012855902293852613\n",
      "Probability of coming from S_2 = 0.9987144097706147\n",
      "\n",
      "3.255062806782293\n",
      "Probability of coming from S_1 = 2.2335158565119202e-17\n",
      "Probability of coming from S_2 = 1.0\n",
      "\n",
      "4.44944387078011\n",
      "Probability of coming from S_1 = 7.05624276526536e-08\n",
      "Probability of coming from S_2 = 0.9999999294375723\n",
      "\n",
      "4.4500887536213085\n",
      "Probability of coming from S_1 = 7.125408271881632e-08\n",
      "Probability of coming from S_2 = 0.9999999287459173\n",
      "\n",
      "6.6728555580344\n",
      "Probability of coming from S_1 = 0.9816466631503022\n",
      "Probability of coming from S_2 = 0.01835333684969769\n",
      "\n",
      "5.9890359011841126\n",
      "Probability of coming from S_1 = 0.6224000613707206\n",
      "Probability of coming from S_2 = 0.3775999386292795\n",
      "\n",
      "4.722916736639092\n",
      "Probability of coming from S_1 = 3.6188692155495165e-06\n",
      "Probability of coming from S_2 = 0.9999963811307844\n",
      "\n",
      "4.586677271515826\n",
      "Probability of coming from S_1 = 5.349868740933091e-07\n",
      "Probability of coming from S_2 = 0.999999465013126\n",
      "\n"
     ]
    }
   ],
   "source": [
    "# Recalculate probabilities based on new estimates.\n",
    "prob_s0_x = [] # P(S_0 | X_i)\n",
    "prob_s1_x = [] # P(S_1 | X_i)\n",
    "prob_x = [] # P(X_i)\n",
    "\n",
    "k = 2\n",
    "\n",
    "for p in data:\n",
    "    print(\"point = \", p)\n",
    "    pdf_i = []\n",
    "\n",
    "    for j in range(k):\n",
    "        # P(X_i | S_j)\n",
    "        pdf_i.append(norm.pdf(p, mean[j], var[j] ** 0.5))\n",
    "        print(\"probability of observing that point if it came from cluster \" + str(j) + \" = \", pdf_i[j])\n",
    "        # P(S_j) already computed\n",
    "        prob_s[j]\n",
    "\n",
    "    # P(X_i) = P(S_0)P(X_i | S_0) + P(S_1)P(X_i | S_1)\n",
    "    prob_x = prob_s[0] * pdf_i[0] + prob_s[1] * pdf_i[1]\n",
    "\n",
    "    # P(S_j | X_i) = P(X_i | S_j)P(S_j) / P(X_i)\n",
    "    prob_s0_x.append(pdf_i[0] * prob_s[0] / prob_x)\n",
    "    prob_s1_x.append(pdf_i[1] * prob_s[1] / prob_x)\n",
    "\n",
    "probs = zip(data, prob_s0_x, prob_s1_x)\n",
    "for p in probs:\n",
    "    print(p[0])\n",
    "    print(\"Probability of coming from S_1 = \" + str(p[1]))\n",
    "    print(\"Probability of coming from S_2 = \" + str(p[2]))\n",
    "    print()"
   ]
  },
  {
   "cell_type": "markdown",
   "metadata": {},
   "source": [
    "Most of the points have the same relative ratio, the points which the algorithm were sure of previously remain the same. For point 8 however, it appears that the algorithm is slowly favoring it coming from S2 over S1."
   ]
  },
  {
   "cell_type": "markdown",
   "metadata": {},
   "source": [
    "h) Use `P(S_j | X_i)` to create a hard assignment - label each point as belonging to a specific cluster (0 or 1)"
   ]
  },
  {
   "cell_type": "code",
   "execution_count": 13,
   "metadata": {},
   "outputs": [
    {
     "name": "stdout",
     "output_type": "stream",
     "text": [
      "Point 5.4361520877714495 belongs to cluster: 1\n",
      "Point 6.840267039369606 belongs to cluster: 0\n",
      "Point 5.196441766405652 belongs to cluster: 1\n",
      "Point 3.255062806782293 belongs to cluster: 1\n",
      "Point 4.44944387078011 belongs to cluster: 1\n",
      "Point 4.4500887536213085 belongs to cluster: 1\n",
      "Point 6.6728555580344 belongs to cluster: 0\n",
      "Point 5.9890359011841126 belongs to cluster: 0\n",
      "Point 4.722916736639092 belongs to cluster: 1\n",
      "Point 4.586677271515826 belongs to cluster: 1\n"
     ]
    }
   ],
   "source": [
    "# Assign a hard assignment to each point based on which relative probability is higher.\n",
    "probs = zip(data, prob_s0_x, prob_s1_x)\n",
    "\n",
    "for p in probs:\n",
    "    print(f\"Point {p[0]} belongs to cluster: \", end=\"\")\n",
    "    \n",
    "    if p[1] > p[2]:\n",
    "        print(\"0\")\n",
    "        \n",
    "    else:\n",
    "        print(\"1\")"
   ]
  }
 ],
 "metadata": {
  "kernelspec": {
   "display_name": "Python 3 (ipykernel)",
   "language": "python",
   "name": "python3"
  },
  "language_info": {
   "codemirror_mode": {
    "name": "ipython",
    "version": 3
   },
   "file_extension": ".py",
   "mimetype": "text/x-python",
   "name": "python",
   "nbconvert_exporter": "python",
   "pygments_lexer": "ipython3",
   "version": "3.8.3"
  },
  "vscode": {
   "interpreter": {
    "hash": "e7370f93d1d0cde622a1f8e1c04877d8463912d04d973331ad4851f04de6915a"
   }
  }
 },
 "nbformat": 4,
 "nbformat_minor": 2
}
